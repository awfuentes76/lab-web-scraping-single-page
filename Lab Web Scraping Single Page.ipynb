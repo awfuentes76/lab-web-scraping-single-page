{
 "cells": [
  {
   "cell_type": "code",
   "execution_count": 1,
   "metadata": {},
   "outputs": [],
   "source": [
    "import re\n",
    "import requests\n",
    "from bs4 import BeautifulSoup\n",
    "import pandas as pd\n",
    "\n",
    "response = requests.get('https://www.billboard.com/charts/hot-100/')\n",
    "soup = BeautifulSoup(response.text)\n",
    "items = soup.find_all(name='ul', class_='o-chart-results-list-row')\n",
    "\n",
    "\n",
    "ranking = []\n",
    "\n",
    "for item in items:\n",
    "    try:\n",
    "        # Determinar posicion\n",
    "        position = item.find(name='span').string\n",
    "        position = re.sub(f'\\n', '', position)\n",
    "        position = re.sub(f'\\t', '', position)\n",
    "        position = int(position)\n",
    "        title = item.find(name='h3', class_='c-title').string\n",
    "        title = re.sub(f'\\n', '', title)\n",
    "        title = re.sub(f'\\t', '', title)\n",
    "        artista = item.find(name='span', class_='a-no-trucate').string\n",
    "        artista = re.sub(f'\\n', '', artista)\n",
    "        artista = re.sub(f'\\t', '', artista)\n",
    "        ranking.append({\n",
    "            'posicion': position,\n",
    "            'title': title,\n",
    "            'artista': artista\n",
    "        })\n",
    "    except Exception as e:\n",
    "        print(f'Error al iterar: {e}')\n",
    "\n",
    "\n",
    "df = pd.DataFrame(ranking)\n",
    "df.to_csv('billboard_100.csv', index=False)\n"
   ]
  }
 ],
 "metadata": {
  "kernelspec": {
   "display_name": "Python 3",
   "language": "python",
   "name": "python3"
  },
  "language_info": {
   "codemirror_mode": {
    "name": "ipython",
    "version": 3
   },
   "file_extension": ".py",
   "mimetype": "text/x-python",
   "name": "python",
   "nbconvert_exporter": "python",
   "pygments_lexer": "ipython3",
   "version": "3.12.2"
  }
 },
 "nbformat": 4,
 "nbformat_minor": 2
}
